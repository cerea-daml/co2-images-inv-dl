{
 "cells": [
  {
   "cell_type": "code",
   "execution_count": 1,
   "id": "4e20bc72-8021-4b9c-bf76-f7f1d2ff2ef1",
   "metadata": {},
   "outputs": [
    {
     "data": {
      "text/plain": [
       "'/libre/dumontj/dl'"
      ]
     },
     "execution_count": 1,
     "metadata": {},
     "output_type": "execute_result"
    }
   ],
   "source": [
    "import os\n",
    "os.chdir(\"../\")\n",
    "os.getcwd()"
   ]
  },
  {
   "cell_type": "markdown",
   "id": "c0534017-2f72-4ab6-b864-7c1704f394f8",
   "metadata": {},
   "source": [
    "\n",
    "## Items to modify in the configuration file config.yaml used to run the experiment\n",
    "### Here this file is constructed through hydra and specifically based on cfg/experiments/inv_lip.yaml\n",
    "\n",
    "* #### path_train_ds = \"path_to_train_dataset\"\n",
    "(example: /libre/dumontj/coco2/dl-input/2km_forLip/train_dataset.nc)\n",
    "* #### path_valid_ds = \"path_to_valid_dataset\"\n",
    "(example: /libre/dumontj/coco2/dl-input/2km_forLip/valid_dataset.nc)\n",
    "\n"
   ]
  },
  {
   "cell_type": "code",
   "execution_count": null,
   "id": "ce0176da-2db5-4c2e-81ba-dad3bca26183",
   "metadata": {},
   "outputs": [
    {
     "name": "stderr",
     "output_type": "stream",
     "text": [
      "2023-11-09 18:04:54.536458: E tensorflow/compiler/xla/stream_executor/cuda/cuda_dnn.cc:9342] Unable to register cuDNN factory: Attempting to register factory for plugin cuDNN when one has already been registered\n",
      "2023-11-09 18:04:54.536498: E tensorflow/compiler/xla/stream_executor/cuda/cuda_fft.cc:609] Unable to register cuFFT factory: Attempting to register factory for plugin cuFFT when one has already been registered\n",
      "2023-11-09 18:04:54.536523: E tensorflow/compiler/xla/stream_executor/cuda/cuda_blas.cc:1518] Unable to register cuBLAS factory: Attempting to register factory for plugin cuBLAS when one has already been registered\n",
      "2023-11-09 18:04:54.543802: I tensorflow/core/platform/cpu_feature_guard.cc:182] This TensorFlow binary is optimized to use available CPU instructions in performance-critical operations.\n",
      "To enable the following instructions: AVX2 AVX512F FMA, in other operations, rebuild TensorFlow with the appropriate compiler flags.\n",
      "\u001b[34m\u001b[1mwandb\u001b[0m: \u001b[32m\u001b[41mERROR\u001b[0m Unable to patch Tensorflow/Keras\n",
      "exception while trying to patch_tf_keras\n",
      "Traceback (most recent call last):\n",
      "  File \"/profils_cerea/dumontj/mambaforge/envs/gpu/lib/python3.9/site-packages/wandb/integration/keras/keras.py\", line 86, in patch_tf_keras\n",
      "    from keras.engine import training\n",
      "ModuleNotFoundError: No module named 'keras.engine'\n",
      "\u001b[34m\u001b[1mwandb\u001b[0m: \u001b[32m\u001b[41mERROR\u001b[0m Unable to patch Tensorflow/Keras\n",
      "exception while trying to patch_tf_keras\n",
      "Traceback (most recent call last):\n",
      "  File \"/profils_cerea/dumontj/mambaforge/envs/gpu/lib/python3.9/site-packages/wandb/integration/keras/keras.py\", line 86, in patch_tf_keras\n",
      "    from keras.engine import training\n",
      "ModuleNotFoundError: No module named 'keras.engine'\n",
      "\u001b[34m\u001b[1mwandb\u001b[0m: \u001b[32m\u001b[41mERROR\u001b[0m Unable to patch Tensorflow/Keras\n",
      "exception while trying to patch_tf_keras\n",
      "Traceback (most recent call last):\n",
      "  File \"/profils_cerea/dumontj/mambaforge/envs/gpu/lib/python3.9/site-packages/wandb/integration/keras/keras.py\", line 86, in patch_tf_keras\n",
      "    from keras.engine import training\n",
      "ModuleNotFoundError: No module named 'keras.engine'\n",
      "/libre/dumontj/dl/main.py:16: UserWarning: \n",
      "The version_base parameter is not specified.\n",
      "Please specify a compatability version level, or None.\n",
      "Will assume defaults for version 1.1\n",
      "  @hydra.main(config_path=\"cfg\", config_name=\"config\")\n",
      "/profils_cerea/dumontj/mambaforge/envs/gpu/lib/python3.9/site-packages/hydra/_internal/hydra.py:119: UserWarning: Future Hydra versions will no longer change working directory at job runtime by default.\n",
      "See https://hydra.cc/docs/1.2/upgrades/1.1_to_1.2/changes_to_job_working_dir/ for more information.\n",
      "  ret = run_job(\n"
     ]
    },
    {
     "name": "stdout",
     "output_type": "stream",
     "text": [
      "\n",
      " \n",
      " \n",
      " \n",
      " \n",
      " Run begins \n",
      " \n",
      " \n",
      " \n",
      " \n",
      "\n",
      "data:\n",
      "  init:\n",
      "    _target_: Data.Data_train\n",
      "    path_train_ds: /libre/dumontj/coco2/dl-input/2km_forLip_2/train_dataset.nc\n",
      "    path_valid_ds: /libre/dumontj/coco2/dl-input/2km_forLip_2/valid_dataset.nc\n",
      "  input:\n",
      "    dir_seg_models: /cerea_raid/users/dumontj/dev/coco2/dl/res/models\n",
      "    chan_0: xco2\n",
      "    chan_1: xco2_prec\n",
      "    chan_2: v_wind\n",
      "    chan_3: u_wind\n",
      "    chan_4: weighted_plume\n",
      "  output:\n",
      "    N_emissions: 1\n",
      "  path:\n",
      "    directory: /libre/dumontj/coco2/dl-input\n",
      "    train:\n",
      "      name: 2km_forLip_2\n",
      "      nc: train_dataset.nc\n",
      "    valid:\n",
      "      name: 2km_forLip_2\n",
      "      nc: valid_dataset.nc\n",
      "dir_res: res/inversion\n",
      "exp_name: inv_lip\n",
      "seed: 42\n",
      "sweep: true\n",
      "model:\n",
      "  type: inversion\n",
      "  name: essential\n",
      "  loss_func: MeanAbsoluteError\n",
      "  dropout_rate: 0.2\n",
      "  scaling_coefficient: 1\n",
      "training:\n",
      "  batch_size: 32\n",
      "  learning_rate: 0.001\n",
      "  max_epochs: 1000\n",
      "  init_weights: random\n",
      "  optimiser: adam\n",
      "augmentations:\n",
      "  shuffle: true\n",
      "  rot:\n",
      "    range: 180\n",
      "  shift:\n",
      "    range: 0\n",
      "  flip:\n",
      "    bool: true\n",
      "  shear:\n",
      "    range: 90\n",
      "  zoom:\n",
      "    range: 0.2\n",
      "  plume_scaling_max: 2\n",
      "  plume_scaling_min: 0.25\n",
      "callbacks:\n",
      "  model_checkpoint:\n",
      "    __target__: true\n",
      "  learning_rate_monitor:\n",
      "    __target__: true\n",
      "    factor: 0.5\n",
      "    patience: 20\n",
      "    min_delta: 0.005\n",
      "    min_lr: 5.0e-05\n",
      "    cooldown: 0\n",
      "  wandb:\n",
      "    __target__: true\n",
      "\n",
      "/libre/dumontj/coco2/dl-input/2km_forLip_2/train_dataset.nc\n"
     ]
    }
   ],
   "source": [
    "run main.py +experiment=inv_lip"
   ]
  },
  {
   "cell_type": "code",
   "execution_count": null,
   "id": "ab838095-5f2a-4476-bdac-5948941ab4d1",
   "metadata": {},
   "outputs": [],
   "source": []
  }
 ],
 "metadata": {
  "kernelspec": {
   "display_name": "Python 3 (ipykernel)",
   "language": "python",
   "name": "python3"
  },
  "language_info": {
   "codemirror_mode": {
    "name": "ipython",
    "version": 3
   },
   "file_extension": ".py",
   "mimetype": "text/x-python",
   "name": "python",
   "nbconvert_exporter": "python",
   "pygments_lexer": "ipython3",
   "version": "3.9.15"
  }
 },
 "nbformat": 4,
 "nbformat_minor": 5
}
