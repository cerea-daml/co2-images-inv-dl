{
 "cells": [
  {
   "cell_type": "code",
   "execution_count": 1,
   "id": "4e20bc72-8021-4b9c-bf76-f7f1d2ff2ef1",
   "metadata": {},
   "outputs": [
    {
     "data": {
      "text/plain": [
       "'/libre/dumontj/dl'"
      ]
     },
     "execution_count": 1,
     "metadata": {},
     "output_type": "execute_result"
    }
   ],
   "source": [
    "import os\n",
    "os.chdir(\"../\")\n",
    "os.getcwd()"
   ]
  },
  {
   "cell_type": "markdown",
   "id": "c0534017-2f72-4ab6-b864-7c1704f394f8",
   "metadata": {},
   "source": [
    "\n",
    "## Items to modify in the configuration file config.yaml used to run the experiment\n",
    "### Here this file is constructed through hydra and specifically based on cfg/experiments/inv_lip.yaml\n",
    "\n",
    "* #### path_train_ds = \"path_to_train_dataset\"\n",
    "(example: /libre/dumontj/coco2/dl-input/all_hotspots_but_lip /train_dataset.nc)\n",
    "* #### path_valid_ds = \"path_to_valid_dataset\"\n",
    "(example: /libre/dumontj/coco2/dl-input/all_hotspots_but_lip /valid_dataset.nc)\n",
    "\n"
   ]
  },
  {
   "cell_type": "code",
   "execution_count": null,
   "id": "7c1c69e0-c87b-4298-87f6-87323542b3b4",
   "metadata": {},
   "outputs": [],
   "source": [
    "run main.py +experiment=inv_lip"
   ]
  },
  {
   "cell_type": "code",
   "execution_count": null,
   "id": "ab838095-5f2a-4476-bdac-5948941ab4d1",
   "metadata": {},
   "outputs": [],
   "source": []
  }
 ],
 "metadata": {
  "kernelspec": {
   "display_name": "Python 3 (ipykernel)",
   "language": "python",
   "name": "python3"
  },
  "language_info": {
   "codemirror_mode": {
    "name": "ipython",
    "version": 3
   },
   "file_extension": ".py",
   "mimetype": "text/x-python",
   "name": "python",
   "nbconvert_exporter": "python",
   "pygments_lexer": "ipython3",
   "version": "3.9.15"
  }
 },
 "nbformat": 4,
 "nbformat_minor": 5
}
