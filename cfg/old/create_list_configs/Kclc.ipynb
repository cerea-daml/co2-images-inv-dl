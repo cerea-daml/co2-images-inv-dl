{
 "cells": [
  {
   "cell_type": "code",
   "execution_count": 20,
   "id": "3d5b5581-ce37-440a-a516-5998e16d0be3",
   "metadata": {},
   "outputs": [],
   "source": [
    "run build_temporaryconfig.py combi_seg_DA.py"
   ]
  },
  {
   "cell_type": "code",
   "execution_count": 21,
   "id": "a1fbeb07-fe93-43c1-aca5-7f5ae24f546a",
   "metadata": {},
   "outputs": [],
   "source": [
    "run build_temporaryconfig.py combi_seg_DA2_0.py"
   ]
  },
  {
   "cell_type": "code",
   "execution_count": 22,
   "id": "3aca58fc-9c2f-40f6-abb4-2f50336ac195",
   "metadata": {},
   "outputs": [],
   "source": [
    "run build_temporaryconfig.py combi_seg_DA2_1.py"
   ]
  },
  {
   "cell_type": "code",
   "execution_count": 23,
   "id": "e5da885b-624e-4ce1-94a3-026fa4d6c1c5",
   "metadata": {},
   "outputs": [],
   "source": [
    "run build_temporaryconfig.py combi_seg_DA_extrapol.py"
   ]
  },
  {
   "cell_type": "code",
   "execution_count": 24,
   "id": "84ffba1f-0808-40c2-891a-1c0f60ac5feb",
   "metadata": {},
   "outputs": [],
   "source": [
    "run build_temporaryconfig.py combi_seg_DA2_0_extrapol.py"
   ]
  },
  {
   "cell_type": "code",
   "execution_count": 25,
   "id": "08a38dce-627a-4abd-ad9c-0304bdbbcf56",
   "metadata": {},
   "outputs": [],
   "source": [
    "run build_temporaryconfig.py combi_seg_DA2_1_extrapol.py"
   ]
  },
  {
   "cell_type": "code",
   "execution_count": null,
   "id": "0709246b-39c6-4a28-86a8-1cbe473442f1",
   "metadata": {},
   "outputs": [],
   "source": []
  }
 ],
 "metadata": {
  "kernelspec": {
   "display_name": "Python 3 (ipykernel)",
   "language": "python",
   "name": "python3"
  },
  "language_info": {
   "codemirror_mode": {
    "name": "ipython",
    "version": 3
   },
   "file_extension": ".py",
   "mimetype": "text/x-python",
   "name": "python",
   "nbconvert_exporter": "python",
   "pygments_lexer": "ipython3",
   "version": "3.8.13"
  }
 },
 "nbformat": 4,
 "nbformat_minor": 5
}
